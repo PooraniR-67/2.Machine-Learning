{
 "cells": [
  {
   "cell_type": "code",
   "execution_count": 2,
   "id": "f8d8138a-85a4-43f2-ad39-89e5f1bb9e2b",
   "metadata": {},
   "outputs": [
    {
     "name": "stderr",
     "output_type": "stream",
     "text": [
      "C:\\Users\\User\\anaconda3\\Lib\\site-packages\\sklearn\\utils\\validation.py:2739: UserWarning: X does not have valid feature names, but LinearRegression was fitted with feature names\n",
      "  warnings.warn(\n"
     ]
    }
   ],
   "source": [
    "#Deployment Phase for End user\n",
    "#Importing pickle library for saving and loading the file\n",
    "import pickle\n",
    "load_model = pickle.load(open(\"FinalizedModel_MultipleLinearRegression.sav\",'rb'))\n",
    "#Gets final prediction for the input.\n",
    "finalResult = load_model.predict([[3243,45373,465567,1,0]])"
   ]
  },
  {
   "cell_type": "code",
   "execution_count": 3,
   "id": "e8e0bc00-d28b-4e03-9f76-3e428a0552ac",
   "metadata": {},
   "outputs": [
    {
     "data": {
      "text/plain": [
       "array([[61241.20872342]])"
      ]
     },
     "execution_count": 3,
     "metadata": {},
     "output_type": "execute_result"
    }
   ],
   "source": [
    "finalResult"
   ]
  },
  {
   "cell_type": "code",
   "execution_count": null,
   "id": "ada69731-ad1f-4b41-9f3d-960ce350e739",
   "metadata": {},
   "outputs": [],
   "source": []
  }
 ],
 "metadata": {
  "kernelspec": {
   "display_name": "Python 3 (ipykernel)",
   "language": "python",
   "name": "python3"
  },
  "language_info": {
   "codemirror_mode": {
    "name": "ipython",
    "version": 3
   },
   "file_extension": ".py",
   "mimetype": "text/x-python",
   "name": "python",
   "nbconvert_exporter": "python",
   "pygments_lexer": "ipython3",
   "version": "3.13.5"
  }
 },
 "nbformat": 4,
 "nbformat_minor": 5
}
